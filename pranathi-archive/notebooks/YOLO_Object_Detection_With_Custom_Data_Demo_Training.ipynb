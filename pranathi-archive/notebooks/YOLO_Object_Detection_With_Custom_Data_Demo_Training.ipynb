{
 "cells": [
  {
   "cell_type": "markdown",
   "metadata": {
    "id": "mJz_ToJtkufM"
   },
   "source": [
    "In this tutorial we will go through the basic training of an object detection model with your own annotated images.\n",
    "\n",
    "The model you will use is a Tiny YOLO v4 from the DarkNet[https://github.com/AlexeyAB/darknet]. \n",
    "Will run through the following steps:\n",
    "\n",
    "\n",
    "*   Install the libraries\n",
    "*   Train the model on the new images\n",
    "*   Run inference on a few images to see what the model can detect\n",
    "*   Convert the model to OpenVINO Intermediate Representation\n",
    "*   Run inference again to see if the IR model works similarly as well"
   ]
  },
  {
   "cell_type": "markdown",
   "metadata": {
    "id": "Kmw4ac-EQuzj"
   },
   "source": [
    "# Install Libraries\n",
    "# Press Shift+Enter to run cells\n",
    "Some cells are commented out (all text is green), so they will not run the code inside.\n",
    "To uncomment code inside a cell, select all the code then press 'Ctrl' + '/'"
   ]
  },
  {
   "cell_type": "code",
   "execution_count": null,
   "metadata": {},
   "outputs": [],
   "source": [
    "# Install Requirements - Cmake, Cuda, Cudnn, opencv\n",
    "# Installing cmake\n",
    "# First download from the website, https://cmake.org/download/, download the source code package - cmake-3.11.1.tar.gz \n",
    "# Decompress downloaded cmake zip file using\n",
    "# %%capture\n",
    "!tar -zvxf cmake-3.11.1.tar.gz\n",
    "%cd cmake-3.11.1\n",
    "!./bootstrap\n",
    "!./configure --prefix=/home/xxx/xxx #---The directory under your user name\n",
    "!make\n",
    "!make install\n",
    "Then add the /home/xxx/xxx/bin directory to the environment variable, and save the source\n",
    "!cmake -version\n",
    "\n",
    "# Setting cuda variable if cuda is already present\n",
    "%env CUDA_HOME=/usr/local/cuda\n",
    "%env LD_LIBRARY_PATH=$LD_LIBRARY_PATH:/usr/local/cuda/lib64:/usr/local/cuda/extras/CUPTI/lib64\n",
    "%env PATH=$PATH:$CUDA_HOME/bin\n",
    "\n",
    "# Installing cudnn - https://docs.nvidia.com/deeplearning/cudnn/install-guide/index.html#download\n",
    "!tar -xvf cudnn-11.4-linux-x64-v8.2.4.15.tgz\n",
    "!sudo cp cuda/include/cudnn*.h /usr/local/cuda/include\n",
    "!sudo cp -P cuda/lib64/libcudnn* /usr/local/cuda/lib64\n",
    "!sudo chmod a+r /usr/local/cuda/include/cudnn*.h /usr/local/cuda/lib64/libcudnn*\n",
    "!sudo /bin/bash -c 'echo \"/usr/local/lib\" > /etc/ld.so.conf.d/opencv.conf'\n",
    "!sudo ldconfig\n",
    "# Installing opencv - https://linuxize.com/post/how-to-install-opencv-on-ubuntu-18-04/\n"
   ]
  },
  {
   "cell_type": "markdown",
   "metadata": {},
   "source": [
    "### Install ulc-malaria-scope"
   ]
  },
  {
   "cell_type": "code",
   "execution_count": null,
   "metadata": {},
   "outputs": [],
   "source": [
    "!git clone https://github.com/czbiohub/ulc-malaria-scope"
   ]
  },
  {
   "cell_type": "markdown",
   "metadata": {},
   "source": [
    "### Install Darknet"
   ]
  },
  {
   "cell_type": "code",
   "execution_count": null,
   "metadata": {
    "colab": {
     "base_uri": "https://localhost:8080/"
    },
    "id": "9z8kgcs0E7iV",
    "outputId": "69a76fe6-be8d-43c5-8b94-1ea320927650"
   },
   "outputs": [],
   "source": [
    "!git clone https://github.com/AlexeyAB/darknet\n",
    "!cd darknet\n",
    "!mkdir build_release\n",
    "!cd build_release\n",
    "!cmake ..\n",
    "!cmake --build . --target install --parallel 8"
   ]
  },
  {
   "cell_type": "markdown",
   "metadata": {},
   "source": [
    "### Install luminoth"
   ]
  },
  {
   "cell_type": "code",
   "execution_count": null,
   "metadata": {},
   "outputs": [],
   "source": [
    "!pip install -e \"git+https://github.com/czbiohub/luminoth.git#egg=master\""
   ]
  },
  {
   "cell_type": "code",
   "execution_count": null,
   "metadata": {},
   "outputs": [],
   "source": [
    "!pip install click==7.1.2"
   ]
  },
  {
   "cell_type": "code",
   "execution_count": null,
   "metadata": {},
   "outputs": [],
   "source": [
    "%env LC_ALL=C.UTF-8"
   ]
  },
  {
   "cell_type": "code",
   "execution_count": null,
   "metadata": {},
   "outputs": [],
   "source": [
    "%env LANG=C.UTF-8"
   ]
  },
  {
   "cell_type": "markdown",
   "metadata": {},
   "source": [
    "### Test if luminoth works"
   ]
  },
  {
   "cell_type": "code",
   "execution_count": null,
   "metadata": {},
   "outputs": [],
   "source": [
    "!apt-get -y update && apt-get -y install -y libgl1"
   ]
  },
  {
   "cell_type": "code",
   "execution_count": null,
   "metadata": {},
   "outputs": [],
   "source": [
    "!lumi --help"
   ]
  },
  {
   "cell_type": "markdown",
   "metadata": {},
   "source": [
    "### Use lumi to split training and validation data"
   ]
  },
  {
   "cell_type": "markdown",
   "metadata": {},
   "source": [
    "Own data should be split into 80% training (train folder), 20% for validation (test folder). The train and test folder should contain images and associated annotations in csv.\n",
    "\n",
    "Have extra images for final model testing (final_test folder). These need not be annotated."
   ]
  },
  {
   "cell_type": "code",
   "execution_count": null,
   "metadata": {},
   "outputs": [],
   "source": [
    "# Optional mosaicing leica data given tiles in folders of classes namely healthy, ring, schizont, troph and obtaining a bb_labels.csv using\n",
    "%cd ulc-malaria-scope\n",
    "!python3 mosaic_to_leica_format.py\n",
    "# Use lumi to split to get train, val images, csv file\n",
    "!lumi split-train-val /data/bioengineering_data/leica_intel_ssd_data/bb_labels.csv --output_dir /data/bioengineering_data/leica_intel_yolo_data/ --percentage 0.8 --random_seed 42 --input_image_format .png\n",
    "\n",
    "# Here if the csv file contains the image_id column it might have to be replaced to say filename using below command\n",
    "\n",
    "!sed -i '1s/.*/filename,xmin,xmax,ymin,ymax,label/' //data/bioengineering_data/leica_intel_ssd_data/lumi_csv/train.csv\n",
    "!sed -i '1s/.*/filename,xmin,xmax,ymin,ymax,label/' //data/bioengineering_data/leica_intel_ssd_data/lumi_csv/val.csv"
   ]
  },
  {
   "cell_type": "markdown",
   "metadata": {},
   "source": [
    "Convert lumi single csv file to yolo required text files each for a image containing only bounding boxes for that image, labels.txt contains 4 lines with 4 labels healthy ring schizont troph"
   ]
  },
  {
   "cell_type": "code",
   "execution_count": null,
   "metadata": {},
   "outputs": [],
   "source": [
    "!python3 intel_detection_utils/csv_to_text.py --input /mnt/data_lg/pranathi/bioengineering_data/leica_intel_yolo_data/ --image_format .jpg --labels labels.txt -r \"800X600\"\n",
    "\n"
   ]
  },
  {
   "cell_type": "markdown",
   "metadata": {},
   "source": [
    "Move images and text files created in the above step to /home/vemuri/code/darknet/build/darknet/x64/data/obj/\n",
    "Create a file named obj.names in the same folder and list the labels healthy ring schizont troph each in a separate line \n",
    "/home/vemuri/code/darknet/build/darknet/x64/data/obj.names"
   ]
  },
  {
   "cell_type": "markdown",
   "metadata": {},
   "source": [
    "Tune parameters for your data in darknet using this link[https://github.com/AlexeyAB/darknet#how-to-train-to-detect-your-custom-objects]"
   ]
  },
  {
   "cell_type": "code",
   "execution_count": 1,
   "metadata": {},
   "outputs": [],
   "source": [
    "# cat /home/vemuri/code/darknet/build/darknet/x64/data/obj.data\n",
    "# classes = 4\n",
    "# train  = /home/vemuri/code/darknet/build/darknet/x64/data/train.txt\n",
    "# valid  = /home/vemuri/code/darknet/build/darknet/x64/data/test.txt\n",
    "# names = /home/vemuri/code/darknet/build/darknet/x64/data/obj.names\n",
    "# backup = /mnt/data_lg/pranathi/backup/"
   ]
  },
  {
   "cell_type": "markdown",
   "metadata": {},
   "source": [
    "## Train using Darknet"
   ]
  },
  {
   "cell_type": "code",
   "execution_count": null,
   "metadata": {},
   "outputs": [],
   "source": [
    "%cd darknet\n",
    "!./darknet detector train /home/vemuri/code/darknet/build/darknet/x64/data/obj.data /home/vemuri/code/ulc-malaria-scope/yolov4-tiny-obj.cfg /home/vemuri/code/darknet/build/darknet/x64/yolov4-tiny.conv.29 -map"
   ]
  },
  {
   "cell_type": "code",
   "execution_count": null,
   "metadata": {},
   "outputs": [],
   "source": [
    "# Run inference on test dataset, visualize results, and generate confusion matrix"
   ]
  },
  {
   "cell_type": "code",
   "execution_count": null,
   "metadata": {},
   "outputs": [],
   "source": [
    "%cd ulc-malaria-scope\n",
    "!python3 intel_detection_utils/make_images_text_file.py --input /mnt/data_lg/pranathi/bioengineering_data/leica_intel_yolo_data/val/ --image_format .jpg --output_text_path val_leica.txt\n",
    "%cd darknet\n",
    "!./darknet detector test /home/vemuri/code/darknet/build/darknet/x64/data/obj.data yolov4-tiny-obj.cfg /mnt/data_lg/pranathi/backup/yolov4-tiny-obj_best.weights -thresh 0.4 -dont_show -save_labels < /home/vemuri/val_leica.txt\n",
    "# Convert text files containing annotations for each image to a csv file\n",
    "!python3 text_to_csv.py --input /mnt/data_lg/pranathi/bioengineering_data/leica_intel_yolo_data/val/ --image_format .jpg --labels labels.txt --images_text_path /home/vemuri/val_leica.txt --resolution \"800X600\"\n",
    "# Overlay bounding boxes from the predicted csv into images \n",
    "lumi overlay-bbs --im_dir ./val --csv_path ./val/bb_labels.csv  --output_dir overlaid_mosaic_yolo_leica --input_image_format .jpg\n",
    "# Get confusion matrix\n",
    "lumi confusion-matrix --groundtruth_csv /Users/pranathi.vemuri/czbiohub/ulc-malaria-scope/val.csv --predicted_csv /Users/pranathi.vemuri/czbiohub/ulc-malaria-scope/val/bb_labels.csv --output_txt output_yolo_val_leica_feb2022.txt  --num_cpus 1 --classes_json /Users/pranathi.vemuri/czbiohub/ulc-malaria-scope/models/classes.json--output_fig output_yolo_val_leica_feb2022.png"
   ]
  },
  {
   "cell_type": "code",
   "execution_count": null,
   "metadata": {
    "colab": {
     "base_uri": "https://localhost:8080/"
    },
    "id": "KP-tUdtnRybs",
    "outputId": "2e9cbaff-2b40-441b-b3ed-40153261cd3e"
   },
   "outputs": [],
   "source": [
    "#model dir check for the trained model\n",
    "!ls /mnt/data_lg/pranathi/backup/"
   ]
  },
  {
   "cell_type": "markdown",
   "metadata": {
    "id": "OmSESMetj1sa"
   },
   "source": [
    "## Export a Trained Inference Graph to .pb\n",
    "Once your training job is complete, you need to extract the newly trained inference graph, which will be later used to perform the object detection. This can be done as follows:"
   ]
  },
  {
   "cell_type": "code",
   "execution_count": null,
   "metadata": {
    "id": "zZJ_AF5MD3hZ"
   },
   "outputs": [],
   "source": [
    "%cd /home/vemuri/code/ulc-malaria-scope/ulc_mm_package/OpenVINO-YOLOV4/"
   ]
  },
  {
   "cell_type": "code",
   "execution_count": null,
   "metadata": {},
   "outputs": [],
   "source": [
    "!python3 convert_weights_pb.py --class_names /home/vemuri/code/darknet/build/darknet/x64/data/obj.names --weights_file /mnt/data_lg/pranathi/backup/yolov4-tiny-obj_best.weights --data_format NHWC --tiny"
   ]
  },
  {
   "cell_type": "code",
   "execution_count": null,
   "metadata": {
    "colab": {
     "base_uri": "https://localhost:8080/"
    },
    "id": "usgBZvkz0nqD",
    "outputId": "f3e6d9e0-8542-4dee-ca77-2d378485f8e4"
   },
   "outputs": [],
   "source": [
    "# .pb file will be created in the same directory check\n",
    "!ls ulc-malaria-scope/ulc_mm_package/OpenVINO-YOLOV4/"
   ]
  },
  {
   "cell_type": "markdown",
   "metadata": {
    "id": "_PlfZAR1OCK2"
   },
   "source": [
    "# Convert TF model to OpenVINO 2021.4 Intermediate Representation (IR)\n",
    " This can be used to run inference on OpenVINO."
   ]
  },
  {
   "cell_type": "markdown",
   "metadata": {
    "id": "3qucQJwsWhL3"
   },
   "source": [
    "## First, we install OpenVINO 2021.4\n"
   ]
  },
  {
   "cell_type": "markdown",
   "metadata": {
    "colab": {
     "base_uri": "https://localhost:8080/"
    },
    "id": "0BxCxkQ6NkcF",
    "outputId": "991d78f0-0da3-4d4c-84fd-2635cd981cfd"
   },
   "source": [
    "Installing openvivo toolkit library for mac using[https://www.intel.com/content/www/us/en/developer/tools/openvino-toolkit-download.html?operatingsystem=mac&distributions=webdownload&version=2021%204.2%20LTS%20(latest)&options=offline]\n",
    "Then installing dmg file and following installation instructions it redirects to at the end of installation finish notice"
   ]
  },
  {
   "cell_type": "markdown",
   "metadata": {
    "id": "h-jbjiw-7nAv"
   },
   "source": [
    "[Optional] OpenVino install check, generally not needed"
   ]
  },
  {
   "cell_type": "code",
   "execution_count": null,
   "metadata": {
    "id": "0NJp28Oj7Ts9"
   },
   "outputs": [],
   "source": [
    "# !source /opt/intel/openvino/bin/setupvars.sh && \\\n",
    "#     /opt/intel/openvino/deployment_tools/demo/demo_squeezenet_download_convert_run.sh"
   ]
  },
  {
   "cell_type": "markdown",
   "metadata": {
    "id": "R7sqTX79W6hh"
   },
   "source": [
    "## Convert TF model to Open Vino Intermediate Representation\n",
    "If using own model, please change to your desired name for output directory --output_dir \"choose name\""
   ]
  },
  {
   "cell_type": "code",
   "execution_count": null,
   "metadata": {
    "colab": {
     "base_uri": "https://localhost:8080/"
    },
    "id": "LsWggE5AIWS6",
    "outputId": "2fdae33e-a318-4a18-ce4d-c18593d9e09a"
   },
   "outputs": [],
   "source": [
    "%cd \"/home/vemuri/code/ulc-malaria-scope/ulc_mm_package/OpenVINO-YOLOV4/\"\n",
    "!source /opt/intel/openvino_2021/bin/setupvars.sh && \\\n",
    "    mo.py --input_model frozen_darknet_yolov4_model.pb --transformations_config yolo_v4_tiny.json --batch 1 --reverse_input_channels"
   ]
  },
  {
   "cell_type": "markdown",
   "metadata": {},
   "source": [
    "## Running inference using IR model on CPU/Intel Neural Compute stick (.xml, .bin file)\n",
    "\n",
    "Set device flag in below commands to CPU or MYRIAD based on if you want to infer using CPU or Neural compute stick"
   ]
  },
  {
   "cell_type": "code",
   "execution_count": null,
   "metadata": {},
   "outputs": [],
   "source": [
    "# Synchronus\n",
    "%cd /home/vemuri/code/ulc-malaria-scope/ulc_mm_package/OpenVINO-YOLOV4/pythondemo/2021.3/\n",
    "!python3.9 sync_detection_yolo.py -i /Users/pranathi.vemuri/Documents/2022-01-21-155910-229209.avi -d MYRIAD -m ../OpenVINO-YOLOV4/frozen_darknet_yolov4_model.xml --o op_basler -f .avi\n"
   ]
  },
  {
   "cell_type": "code",
   "execution_count": null,
   "metadata": {},
   "outputs": [],
   "source": [
    "# Asynchronus\n",
    "%cd /home/vemuri/code/ulc-malaria-scope/ulc_mm_package/OpenVINO-YOLOV4/pythondemo/2021.3/\n",
    "!python3.9 object_detection_demo_yolov3_async.py -i /Users/pranathi.vemuri/czbiohub/ulc-malaria-scope/val/out.mp4 -m frozen_darknet_yolov4_model.xml  -d MYRIAD\n"
   ]
  },
  {
   "cell_type": "markdown",
   "metadata": {},
   "source": [
    "# Convert to tflite by first converting to SavedModel Pb and then tflite "
   ]
  },
  {
   "cell_type": "markdown",
   "metadata": {},
   "source": [
    "## Detect using yolo tflite model above"
   ]
  },
  {
   "cell_type": "code",
   "execution_count": null,
   "metadata": {},
   "outputs": [],
   "source": [
    "%cd ulc-malaria-scope/ulc-mm-package/detection"
   ]
  },
  {
   "cell_type": "code",
   "execution_count": null,
   "metadata": {},
   "outputs": [],
   "source": [
    "!python detectvideo.py \\\n",
    "    --framework tflite \\\n",
    "    --weights checkpoints/yolov4-416.tflite --tiny \\\n",
    "    --video /Users/pranathi.vemuri/czbiohub/all_results/val/out_val.mp4\n",
    "    --output /Users/pranathi.vemuri/czbiohub/all_results/val/op_tflite\n"
   ]
  },
  {
   "cell_type": "markdown",
   "metadata": {},
   "source": [
    "# Convert tflite to edgetpu tflite model\n",
    "Convert using edgetpu_compiler - https://colab.research.google.com/github/google-coral/tutorials/blob/master/compile_for_edgetpu.ipynb or from step 2 in https://coral.ai/docs/edgetpu/retrain-detection/#compile-the-model-for-the-edge-tpu\n",
    "\n",
    "Currently errors out for the model obtained above\n",
    "\n",
    "! edgetpu_compiler $TFLITE_FILE\n",
    "Edge TPU Compiler version 16.0.384591198\n",
    "Started a compilation timeout timer of 180 seconds.\n",
    "ERROR: Attempting to use a delegate that only supports static-sized tensors with a graph that has dynamic-sized tensors.\n",
    "Compilation failed: Model failed in Tflite interpreter. Please ensure model can be loaded/run in Tflite interpreter.\n",
    "Compilation child process completed within timeout period.\n",
    "Compilation failed! "
   ]
  },
  {
   "cell_type": "markdown",
   "metadata": {},
   "source": [
    "# Confusion matrix on validation data for tflite converted and IR model"
   ]
  },
  {
   "cell_type": "code",
   "execution_count": null,
   "metadata": {},
   "outputs": [],
   "source": [
    "!lumi confusion-matrix --groundtruth_csv /Users/pranathi.vemuri/czbiohub/all_results/val/bb_labels.csv --predicted_csv /Users/pranathi.vemuri/czbiohub/all_results/op_basler/bb_labels.csv --output_txt output_yolo_tflite  --num_cpus 1 --classes_json /Users/pranathi.vemuri/czbiohub/ulc-malaria-scope/ssd-models/classes.json --output_fig output_yolo_tflite.png\n",
    "\n",
    "!lumi confusion-matrix --groundtruth_csv /Users/pranathi.vemuri/czbiohub/all_results/val/bb_labels.csv --predicted_csv /Users/pranathi.vemuri/czbiohub/all_results/val/op_tflite/bb_labels.csv --output_txt output_yolo_ir.txt  --num_cpus 1 --classes_json /Users/pranathi.vemuri/czbiohub/ulc-malaria-scope/ssd-models/classes.json --output_fig output_yolo_ir.png"
   ]
  },
  {
   "cell_type": "markdown",
   "metadata": {},
   "source": [
    "# Titration experiments"
   ]
  },
  {
   "cell_type": "code",
   "execution_count": null,
   "metadata": {},
   "outputs": [],
   "source": [
    "!python3.9 /Users/pranathi.vemuri/czbiohub/ulc-malaria-scope/ulc_mm_package/OpenVINO-YOLOV4/pythondemo/2021.3/sync_detection_yolo.py -i /Volumes/flexo/MicroscopyData/Bioengineering/Label-Free\\ Malaria\\ Paper/Processed\\ Data/Leica/Titration/Point\\ 1/405nm\\ 40x_aligned  -d MYRIAD -m /Users/pranathi.vemuri/czbiohub/ulc-malaria-scope/yolov4-models/frozen_darknet_yolov4_model.xml --o \"op_Point1\" -f .tif --labels /Users/pranathi.vemuri/czbiohub/ulc-malaria-scope/yolov4-models/obj.names\n",
    "\n",
    "!python3.9 /Users/pranathi.vemuri/czbiohub/ulc-malaria-scope/ulc_mm_package/OpenVINO-YOLOV4/pythondemo/2021.3/sync_detection_yolo.py -i /Volumes/flexo/MicroscopyData/Bioengineering/Label-Free\\ Malaria\\ Paper/Processed\\ Data/Leica/Titration/Point\\ 2/405nm\\ 40x_aligned  -d MYRIAD -m /Users/pranathi.vemuri/czbiohub/ulc-malaria-scope/yolov4-models/frozen_darknet_yolov4_model.xml --o \"op_Point2\" -f .tif --labels /Users/pranathi.vemuri/czbiohub/ulc-malaria-scope/yolov4-models/obj.names\n",
    "\n",
    "!python3.9 /Users/pranathi.vemuri/czbiohub/ulc-malaria-scope/ulc_mm_package/OpenVINO-YOLOV4/pythondemo/2021.3/sync_detection_yolo.py -i /Volumes/flexo/MicroscopyData/Bioengineering/Label-Free\\ Malaria\\ Paper/Processed\\ Data/Leica/Titration/Point\\ 3/405nm\\ 40x_aligned  -d MYRIAD -m /Users/pranathi.vemuri/czbiohub/ulc-malaria-scope/yolov4-models/frozen_darknet_yolov4_model.xml --o \"op_Point3\" -f .tif --labels /Users/pranathi.vemuri/czbiohub/ulc-malaria-scope/yolov4-models/obj.names\n",
    "\n",
    "!python3.9 /Users/pranathi.vemuri/czbiohub/ulc-malaria-scope/ulc_mm_package/OpenVINO-YOLOV4/pythondemo/2021.3/sync_detection_yolo.py -i /Volumes/flexo/MicroscopyData/Bioengineering/Label-Free\\ Malaria\\ Paper/Processed\\ Data/Leica/Titration/Point\\ 4/405nm\\ 40x_aligned  -d MYRIAD -m /Users/pranathi.vemuri/czbiohub/ulc-malaria-scope/yolov4-models/frozen_darknet_yolov4_model.xml --o \"op_Point4\" -f .tif --labels /Users/pranathi.vemuri/czbiohub/ulc-malaria-scope/yolov4-models/obj.names\n",
    "\n",
    "!python3.9 /Users/pranathi.vemuri/czbiohub/ulc-malaria-scope/ulc_mm_package/OpenVINO-YOLOV4/pythondemo/2021.3/sync_detection_yolo.py -i /Volumes/flexo/MicroscopyData/Bioengineering/Label-Free\\ Malaria\\ Paper/Processed\\ Data/Leica/Titration/Point\\ 5/405nm\\ 40x_aligned  -d MYRIAD -m /Users/pranathi.vemuri/czbiohub/ulc-malaria-scope/yolov4-models/frozen_darknet_yolov4_model.xml --o \"op_Point5\" -f .tif --labels /Users/pranathi.vemuri/czbiohub/ulc-malaria-scope/yolov4-models/obj.names\n",
    "\n",
    "!python3.9 /Users/pranathi.vemuri/czbiohub/ulc-malaria-scope/ulc_mm_package/OpenVINO-YOLOV4/pythondemo/2021.3/sync_detection_yolo.py -i /Volumes/flexo/MicroscopyData/Bioengineering/Label-Free\\ Malaria\\ Paper/Processed\\ Data/Leica/Titration/Point\\ 6/405nm\\ 40x_aligned  -d MYRIAD -m /Users/pranathi.vemuri/czbiohub/ulc-malaria-scope/yolov4-models/frozen_darknet_yolov4_model.xml --o \"op_Point6\" -f .tif --labels /Users/pranathi.vemuri/czbiohub/ulc-malaria-scope/yolov4-models/obj.names\n",
    "\n",
    "!python3.9 /Users/pranathi.vemuri/czbiohub/ulc-malaria-scope/ulc_mm_package/OpenVINO-YOLOV4/pythondemo/2021.3/sync_detection_yolo.py -i /Volumes/flexo/MicroscopyData/Bioengineering/Label-Free\\ Malaria\\ Paper/Processed\\ Data/Leica/Titration/Point\\ 7/405nm\\ 40x_aligned  -d MYRIAD -m /Users/pranathi.vemuri/czbiohub/ulc-malaria-scope/yolov4-models/frozen_darknet_yolov4_model.xml --o \"op_Point7\" -f .tif --labels /Users/pranathi.vemuri/czbiohub/ulc-malaria-scope/yolov4-models/obj.names\n",
    "\n",
    "!python3.9 /Users/pranathi.vemuri/czbiohub/ulc-malaria-scope/ulc_mm_package/OpenVINO-YOLOV4/pythondemo/2021.3/sync_detection_yolo.py -i /Volumes/flexo/MicroscopyData/Bioengineering/Label-Free\\ Malaria\\ Paper/Processed\\ Data/Leica/Titration/Point\\ 8/405nm\\ 40x_aligned  -d MYRIAD -m /Users/pranathi.vemuri/czbiohub/ulc-malaria-scope/yolov4-models/frozen_darknet_yolov4_model.xml --o \"op_Point8\" -f .tif --labels /Users/pranathi.vemuri/czbiohub/ulc-malaria-scope/yolov4-models/obj.names\n",
    "\n",
    "!python3.9 /Users/pranathi.vemuri/czbiohub/ulc-malaria-scope/ulc_mm_package/OpenVINO-YOLOV4/pythondemo/2021.3/sync_detection_yolo.py -i /Volumes/flexo/MicroscopyData/Bioengineering/Label-Free\\ Malaria\\ Paper/Processed\\ Data/Leica/Titration/Point\\ 9/405nm\\ 40x_aligned  -d MYRIAD -m /Users/pranathi.vemuri/czbiohub/ulc-malaria-scope/yolov4-models/frozen_darknet_yolov4_model.xml --o \"op_Point9\" -f .tif --labels /Users/pranathi.vemuri/czbiohub/ulc-malaria-scope/yolov4-models/obj.names\n",
    "\n",
    "!python3.9 /Users/pranathi.vemuri/czbiohub/ulc-malaria-scope/ulc_mm_package/OpenVINO-YOLOV4/pythondemo/2021.3/sync_detection_yolo.py -i /Volumes/flexo/MicroscopyData/Bioengineering/Label-Free\\ Malaria\\ Paper/Processed\\ Data/Leica/Titration/Point\\ 10/405nm\\ 40x_aligned  -d MYRIAD -m /Users/pranathi.vemuri/czbiohub/ulc-malaria-scope/yolov4-models/frozen_darknet_yolov4_model.xml --o \"op_Point10\" -f .tif --labels /Users/pranathi.vemuri/czbiohub/ulc-malaria-scope/yolov4-models/obj.names"
   ]
  },
  {
   "cell_type": "code",
   "execution_count": null,
   "metadata": {},
   "outputs": [],
   "source": []
  }
 ],
 "metadata": {
  "accelerator": "GPU",
  "colab": {
   "collapsed_sections": [
    "6LnZjgF4N71_",
    "PS6W4ZEEWBgM"
   ],
   "name": "Copy of Easy_Object_Detection_With_Custom_Data_Demo_Training_Git.ipynb",
   "provenance": []
  },
  "kernelspec": {
   "display_name": "Python 3",
   "language": "python",
   "name": "python3"
  },
  "language_info": {
   "codemirror_mode": {
    "name": "ipython",
    "version": 3
   },
   "file_extension": ".py",
   "mimetype": "text/x-python",
   "name": "python",
   "nbconvert_exporter": "python",
   "pygments_lexer": "ipython3",
   "version": "3.8.7"
  }
 },
 "nbformat": 4,
 "nbformat_minor": 1
}
