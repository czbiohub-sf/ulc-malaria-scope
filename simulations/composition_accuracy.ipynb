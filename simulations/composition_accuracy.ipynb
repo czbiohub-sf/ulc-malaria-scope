{
 "cells": [
  {
   "cell_type": "code",
   "execution_count": 213,
   "id": "9028433f-fbe1-4429-bfda-4a0fed42a8b0",
   "metadata": {},
   "outputs": [],
   "source": [
    "import numpy as np\n",
    "import matplotlib.pyplot as plt"
   ]
  },
  {
   "cell_type": "code",
   "execution_count": 133,
   "id": "f9e949fc-f19d-4ad4-9e36-d11c18bef6cd",
   "metadata": {},
   "outputs": [
    {
     "name": "stdout",
     "output_type": "stream",
     "text": [
      "[[0.97 0.02 0.01 0.  ]\n",
      " [0.02 0.97 0.01 0.  ]\n",
      " [0.01 0.01 0.97 0.01]\n",
      " [0.   0.01 0.02 0.97]]\n"
     ]
    }
   ],
   "source": [
    "# Number of experiments to run\n",
    "n_experiments = 100\n",
    "\n",
    "# The set of class labels in the sample\n",
    "labels = ['healthy','ring','troph','schizont']\n",
    "n_labels = len(labels)\n",
    "\n",
    "# Define confusion matrix. Rows are ground truth, columns are output. Confusion matrix in this form\n",
    "# is normalized such that all rows sum to 1 and is indexed in the same order as the 'labels' variable\n",
    "\n",
    "cm = np.array([[0.97, 0.02, 0.01, 0.0], \\\n",
    "               [0.02, 0.97, 0.01, 0.0], \\\n",
    "               [0.01, 0.01, 0.97, 0.01], \\\n",
    "               [0.0, 0.01, 0.02, 0.97]])\n",
    "\n",
    "# Ground truth sample composition (sums to 1)\n",
    "sample_comp = np.array([1, 0.0002, 0.0001, 0.0001])\n",
    "sample_comp[0] = 1 - np.sum(sample_comp[1:])\n",
    "assert np.sum(sample_comp) == 1.0\n"
   ]
  },
  {
   "cell_type": "code",
   "execution_count": 134,
   "id": "bc429ffc-f4a1-49fe-88b5-5af84ac53669",
   "metadata": {},
   "outputs": [
    {
     "name": "stdout",
     "output_type": "stream",
     "text": [
      "800000\n"
     ]
    }
   ],
   "source": [
    "# Define the duration of the imaging experiment, in seconds\n",
    "t_max_s = 20*60\n",
    "\n",
    "# Inference time per image. Assume for the moment we're limited by inference time\n",
    "t_inf_s = 0.03\n",
    "\n",
    "# Total images processed\n",
    "n_images = t_max_s/t_inf_s\n",
    "\n",
    "# Average number of cells per image\n",
    "n_cells_per_image = 20\n",
    "\n",
    "# Total cells imaged\n",
    "n_cells_total = int(n_cells_per_image*n_images)\n",
    "print(n_cells_total)"
   ]
  },
  {
   "cell_type": "code",
   "execution_count": 135,
   "id": "48ff0c2c-ca63-4c88-bdab-7071ccdefb2b",
   "metadata": {},
   "outputs": [],
   "source": [
    "# numpy random number generator\n",
    "rng = np.random.default_rng()\n",
    "\n",
    "# Ground truth class counts for each experiment\n",
    "sample_gt = np.zeros((n_experiments, n_labels))\n",
    "\n",
    "# Classifier's estimate of the sample\n",
    "est = np.zeros((n_experiments, n_labels))\n",
    "est_parasitemia = np.zeros((n_experiments, n_labels))\n",
    "\n",
    "for e in range(n_experiments):\n",
    "    \n",
    "    r = rng.random(n_cells_total)\n",
    "    # Create a random variable with length equal to the total number of cells\n",
    "    \n",
    "    # Partition\n",
    "    p = 0.0\n",
    "    \n",
    "    # Partition the class counts in proportion to the random number distribution between 0-1\n",
    "    for i in range(n_labels):\n",
    "        sample_gt[e,i] = np.count_nonzero( np.logical_and(np.greater(r,p),np.less(r, np.sum(sample_comp[0:(i+1)]))))\n",
    "        p += sample_comp[i]\n",
    "    \n",
    "    # Compute the sample estimates based on the confusion matrix\n",
    "    est[e,:] = np.matmul(cm,sample_gt[e])\n",
    "\n",
    "    # Sample composition estimate (parasitemia)\n",
    "    est_parasitemia[e,:] = 100*est[e,:]/np.sum(est[e, :])\n",
    "# Average over experiments\n",
    "# Total number of parasites in sample\n",
    "sample_gt_mean = np.average(sample_gt,0)\n",
    "mean_est_parasitemia = np.average(est_parasitemia, 0)\n",
    "std_est_parasitemia = np.std(est_parasitemia, 0)\n",
    "absolute_parasitemia_error = mean_est_parasitemia - 100*sample_comp\n",
    "fold_error = np.divide(absolute_parasitemia_error, 100*sample_comp)\n",
    "\n",
    "# Make dicts for easier association with labels\n",
    "sample_gt_dict = dict(zip(labels, sample_gt_mean))\n",
    "abs_error_dict = dict(zip(labels,absolute_parasitemia_error))\n",
    "fold_error_dict = dict(zip(labels,fold_error))\n",
    "mean_dict = dict(zip(labels,mean_est_parasitemia))\n",
    "gt_dict = dict(zip(labels, 100*sample_comp))\n",
    "std_est_dict = dict(zip(labels, std_est_parasitemia))"
   ]
  },
  {
   "cell_type": "code",
   "execution_count": 136,
   "id": "8a70c2f0-6ad8-48fe-b131-eb846651ce0b",
   "metadata": {},
   "outputs": [
    {
     "name": "stdout",
     "output_type": "stream",
     "text": [
      "\n",
      "Avg Healthy: 799680.960 \n",
      "Avg Ring: 159.970\n",
      "Avg Troph: 79.140\n",
      "Avg Schizont: 79.930\n",
      "\n",
      "Ground truth composition: \n",
      "Healthy: 99.960% \n",
      "Ring: 0.020%\n",
      "Troph: 0.010%\n",
      "Schizont: 0.010% \n",
      "\n",
      "Mean of the estimates: \n",
      "Healthy: 96.962% \n",
      "Ring: 2.019%\n",
      "Troph: 1.009%\n",
      "Schizont: 0.010% \n",
      "\n",
      "Absolute error: \n",
      "Healthy: -2.998% \n",
      "Ring: 1.999%\n",
      "Troph: 0.999%\n",
      "Schizont: 0.000% \n",
      "\n",
      "Fold error: \n",
      "Healthy: -0.030 \n",
      "Ring: 99.935\n",
      "Troph: 99.950\n",
      "Schizont: 0.009\n",
      "\n",
      "Stdev across estimates: \n",
      "Healthy: 0.00226 \n",
      "Ring: 0.00160\n",
      "Troph: 0.00090\n",
      "Schizont: 0.00109\n"
     ]
    }
   ],
   "source": [
    "print(\"\\nAvg Healthy: {healthy:2.3f} \\nAvg Ring: {ring:2.3f}\\nAvg Troph: {troph:2.3f}\\nAvg Schizont: {schizont:2.3f}\".format(**sample_gt_dict))\n",
    "print(\"\\nGround truth composition: \\nHealthy: {healthy:2.3f}% \\nRing: {ring:2.3f}%\\nTroph: {troph:2.3f}%\\nSchizont: {schizont:2.3f}% \".format(**gt_dict))\n",
    "print(\"\\nMean of the estimates: \\nHealthy: {healthy:2.3f}% \\nRing: {ring:2.3f}%\\nTroph: {troph:2.3f}%\\nSchizont: {schizont:2.3f}% \".format(**mean_dict))\n",
    "print(\"\\nAbsolute error: \\nHealthy: {healthy:2.3f}% \\nRing: {ring:2.3f}%\\nTroph: {troph:2.3f}%\\nSchizont: {schizont:2.3f}% \".format(**abs_error_dict))\n",
    "print(\"\\nFold error: \\nHealthy: {healthy:2.3f} \\nRing: {ring:2.3f}\\nTroph: {troph:2.3f}\\nSchizont: {schizont:2.3f}\".format(**fold_error_dict))\n",
    "print(\"\\nStdev across estimates: \\nHealthy: {healthy:2.5f} \\nRing: {ring:2.5f}\\nTroph: {troph:2.5f}\\nSchizont: {schizont:2.5f}\".format(**std_est_dict))"
   ]
  },
  {
   "cell_type": "markdown",
   "id": "770dbab2",
   "metadata": {},
   "source": [
    "### Packaging the above\n",
    "Package the above code into a single function `simulate`. \n",
    "This function can be called with a confusion matrix and a desired sample composition and will return the mean percentage estimates for each class (healthy, ring, troph, schizont). \n",
    "\n",
    "This function can be called repeatedly with different sample compositions to generate a titration curve. The helper function at the top, `proportions_from_parasitemia()` generates a sample composition with the desired total percentage of parasitemia. The relative proportions of ring/troph/schizont are based on the numbers given in the label-free malaria paper."
   ]
  },
  {
   "cell_type": "code",
   "execution_count": 347,
   "id": "f3ec4b5c",
   "metadata": {},
   "outputs": [],
   "source": [
    "def proportions_from_parasitemia(parasitemia_perc):\n",
    "    \"\"\"Helper function to generate a sample composition with desired\n",
    "    level of parasitemia.\n",
    "    \"\"\"\n",
    "    \n",
    "    # Use these numbers from the paper as a rough proportional factor between the parasitic stages\n",
    "    r=3344\n",
    "    t=1566 \n",
    "    s=873\n",
    "    \n",
    "    m, n = t/r, s/r\n",
    "    x = parasitemia_perc\n",
    "    coeff = 1 / (1+m+n)\n",
    "    proportions = [1 - x, x/coeff, x*m/coeff, x*n/coeff]\n",
    "    return proportions\n",
    "\n",
    "def simulate(cm, perc):\n",
    "    # Number of experiments to run\n",
    "    n_experiments = 100\n",
    "\n",
    "    # The set of class labels in the sample\n",
    "    labels = ['healthy','ring','troph','schizont']\n",
    "    n_labels = len(labels)\n",
    "\n",
    "    # Ground truth sample composition (sums to 1)\n",
    "    sample_comp = np.array(perc)\n",
    "    \n",
    "    # Define the duration of the imaging experiment, in seconds\n",
    "    t_max_s = 20*60\n",
    "\n",
    "    # Inference time per image. Assume for the moment we're limited by inference time\n",
    "    t_inf_s = 0.03\n",
    "\n",
    "    # Total images processed\n",
    "    n_images = t_max_s/t_inf_s\n",
    "\n",
    "    # Average number of cells per image\n",
    "    n_cells_per_image = 20\n",
    "\n",
    "    # Total cells imaged\n",
    "    n_cells_total = int(n_cells_per_image*n_images)\n",
    "    \n",
    "    # numpy random number generator\n",
    "    rng = np.random.default_rng()\n",
    "\n",
    "    # Ground truth class counts for each experiment\n",
    "    sample_gt = np.zeros((n_experiments, n_labels))\n",
    "\n",
    "    # Classifier's estimate of the sample\n",
    "    est = np.zeros((n_experiments, n_labels))\n",
    "    est_parasitemia = np.zeros((n_experiments, n_labels))\n",
    "\n",
    "    for e in range(n_experiments):\n",
    "\n",
    "        r = rng.random(n_cells_total)\n",
    "        # Create a random variable with length equal to the total number of cells\n",
    "\n",
    "        # Partition\n",
    "        p = 0.0\n",
    "\n",
    "        # Partition the class counts in proportion to the random number distribution between 0-1\n",
    "        for i in range(n_labels):\n",
    "            sample_gt[e,i] = np.count_nonzero( np.logical_and(np.greater(r,p),np.less(r, np.sum(sample_comp[0:(i+1)]))))\n",
    "            p += sample_comp[i]\n",
    "\n",
    "        # Compute the sample estimates based on the confusion matrix\n",
    "        est[e,:] = np.matmul(sample_gt[e], cm)\n",
    "\n",
    "        est_parasitemia[e,:] = 100*est[e,:]/np.sum(est[e, :])\n",
    "\n",
    "    # Average over experiments\n",
    "    # Total number of parasites in sample\n",
    "    sample_gt_mean = np.average(sample_gt,0)\n",
    "    mean_est_parasitemia = np.average(est_parasitemia, 0)\n",
    "    std_est_parasitemia = np.std(est_parasitemia, 0)\n",
    "    absolute_parasitemia_error = mean_est_parasitemia - 100*sample_comp\n",
    "    fold_error = np.divide(absolute_parasitemia_error, 100*sample_comp)\n",
    "\n",
    "    # Make dicts for easier association with labels\n",
    "    sample_gt_dict = dict(zip(labels, sample_gt_mean))\n",
    "    abs_error_dict = dict(zip(labels,absolute_parasitemia_error))\n",
    "    fold_error_dict = dict(zip(labels,fold_error))\n",
    "    mean_dict = dict(zip(labels,mean_est_parasitemia))\n",
    "    gt_dict = dict(zip(labels, 100*sample_comp))\n",
    "    std_est_dict = dict(zip(labels, std_est_parasitemia))\n",
    "\n",
    "    return mean_dict"
   ]
  },
  {
   "cell_type": "markdown",
   "id": "d02f60e5",
   "metadata": {},
   "source": [
    "### Run the simulation at various titration points\n",
    "- Runs the simulation for 10 titration points\n",
    "- Generates a log-log plot overlaying the actual parasitemia vs. the estimated parasitemia by the network (based on the provided confusion matrix)"
   ]
  },
  {
   "cell_type": "code",
   "execution_count": 350,
   "id": "addbd20e",
   "metadata": {
    "scrolled": false
   },
   "outputs": [
    {
     "name": "stdout",
     "output_type": "stream",
     "text": [
      "Raw counts given in CM, row-normalizing...\n",
      "GT: 18.60% Est: 18.26%\n",
      "GT: 9.30% Est: 9.40%\n",
      "GT: 4.65% Est: 4.97%\n",
      "GT: 2.33% Est: 2.75%\n",
      "GT: 1.16% Est: 1.64%\n",
      "GT: 0.58% Est: 1.09%\n",
      "GT: 0.29% Est: 0.82%\n",
      "GT: 0.15% Est: 0.68%\n",
      "GT: 0.07% Est: 0.61%\n",
      "GT: 0.04% Est: 0.57%\n"
     ]
    },
    {
     "data": {
      "image/png": "[encoded data removed]",
      "text/plain": [
       "<Figure size 504x504 with 1 Axes>"
      ]
     },
     "metadata": {
      "needs_background": "light"
     },
     "output_type": "display_data"
    }
   ],
   "source": [
    "# The 'actual' parasitemia of the titration datasets\n",
    "actual_parasitemia = [.186/2**x for x in range(0, 10)]\n",
    "est_parasitemia = []\n",
    "\n",
    "### EITHER provide the raw counts or the row-normalized matrix. \n",
    "### If the raw counts are provided, row-normalization will be done automatically.\n",
    "\n",
    "# Rows are ground-truth (from top-to-bottom, healthy/ring/troph/schizont).\n",
    "cm = np.array([\n",
    "    [6288, 29, 5, 0], \n",
    "    [24, 524, 31, 0],\n",
    "    [0, 26, 200, 26],\n",
    "    [0, 0, 15, 50]])\n",
    "\n",
    "# Row-normalize the confusion matrix if not already\n",
    "if not np.all(np.sum(cm / np.sum(cm, axis=1)[:, np.newaxis], axis=1) == 1.0):\n",
    "    print(\"Raw counts given in CM, row-normalizing...\")\n",
    "    cm = cm / np.sum(cm, axis=1)[:, np.newaxis]\n",
    "\n",
    "# Run the simulation at each parasitemia point    \n",
    "for perc in actual_parasitemia:\n",
    "    results = simulate(cm, proportions_from_parasitemia(perc)).values()\n",
    "    parasitemia = np.sum(list(results)[1:])\n",
    "    print(f\"GT: {100*perc:.2f}% Est: {parasitemia:.2f}%\")\n",
    "    est_parasitemia.append(parasitemia)\n",
    "\n",
    "# Plot a log-log plot    \n",
    "plt.figure(figsize=(7, 7))\n",
    "actual_parasitemia = [x*100 for x in actual_parasitemia]\n",
    "plt.loglog(actual_parasitemia, actual_parasitemia, linestyle='-', color='black', marker='o', label='GT')\n",
    "plt.loglog(actual_parasitemia, est_parasitemia, linestyle='--', marker='o', label='Classifier')\n",
    "plt.legend()\n",
    "plt.title(\"Simulated Titration curve\")\n",
    "plt.xlabel(\"Nominal parasitemia (%)\")\n",
    "plt.ylabel(\"Measured parasitemia (%)\")\n",
    "plt.grid(b=True, which='minor')"
   ]
  }
 ],
 "metadata": {
  "kernelspec": {
   "display_name": "Python 3",
   "language": "python",
   "name": "python3"
  },
  "language_info": {
   "codemirror_mode": {
    "name": "ipython",
    "version": 3
   },
   "file_extension": ".py",
   "mimetype": "text/x-python",
   "name": "python",
   "nbconvert_exporter": "python",
   "pygments_lexer": "ipython3",
   "version": "3.9.7"
  }
 },
 "nbformat": 4,
 "nbformat_minor": 5
}
